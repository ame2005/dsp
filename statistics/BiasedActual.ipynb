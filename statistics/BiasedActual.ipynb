{
 "cells": [
  {
   "cell_type": "code",
   "execution_count": 2,
   "metadata": {},
   "outputs": [
    {
     "data": {
      "text/plain": [
       "caseid               int64\n",
       "rscrinf              int64\n",
       "rdormres             int64\n",
       "rostscrn             int64\n",
       "rscreenhisp          int64\n",
       "rscreenrace        float64\n",
       "age_a                int64\n",
       "age_r                int64\n",
       "cmbirth              int64\n",
       "agescrn              int64\n",
       "marstat              int64\n",
       "fmarstat           float64\n",
       "fmarit               int64\n",
       "evrmarry             int64\n",
       "hisp                 int64\n",
       "hispgrp            float64\n",
       "numrace              int64\n",
       "roscnt               int64\n",
       "hplocale           float64\n",
       "manrel             float64\n",
       "fl_rage              int64\n",
       "fl_rrace             int64\n",
       "fl_rhisp             int64\n",
       "goschol              int64\n",
       "vaca               float64\n",
       "higrade              int64\n",
       "compgrd            float64\n",
       "havedip            float64\n",
       "dipged             float64\n",
       "cmhsgrad           float64\n",
       "                    ...   \n",
       "advice_i             int64\n",
       "insem_i              int64\n",
       "invitro_i            int64\n",
       "endomet_i            int64\n",
       "fibroids_i           int64\n",
       "pidtreat_i           int64\n",
       "evhivtst_i           int64\n",
       "insuranc             int64\n",
       "metro                int64\n",
       "religion             int64\n",
       "laborfor             int64\n",
       "insuranc_i           int64\n",
       "metro_i              int64\n",
       "religion_i           int64\n",
       "laborfor_i           int64\n",
       "poverty              int64\n",
       "totincr              int64\n",
       "pubassis             int64\n",
       "poverty_i            int64\n",
       "totincr_i            int64\n",
       "pubassis_i           int64\n",
       "basewgt            float64\n",
       "adj_mod_basewgt    float64\n",
       "finalwgt           float64\n",
       "secu_r               int64\n",
       "sest                 int64\n",
       "cmintvw              int64\n",
       "cmlstyr              int64\n",
       "screentime          object\n",
       "intvlngth          float64\n",
       "Length: 3087, dtype: object"
      ]
     },
     "execution_count": 2,
     "metadata": {},
     "output_type": "execute_result"
    }
   ],
   "source": [
    "from __future__ import print_function, division\n",
    "\n",
    "%matplotlib inline\n",
    "\n",
    "import numpy as np\n",
    "\n",
    "import nsfg\n",
    "import first\n",
    "import thinkstats2\n",
    "import thinkplot\n",
    "resp = nsfg.ReadFemResp()\n",
    "\n",
    "resp.dtypes\n"
   ]
  },
  {
   "cell_type": "code",
   "execution_count": 3,
   "metadata": {},
   "outputs": [],
   "source": [
    "pmf = thinkstats2.Pmf(resp.numkdhh, label='numkdhh')\n"
   ]
  },
  {
   "cell_type": "markdown",
   "metadata": {},
   "source": [
    "\n"
   ]
  },
  {
   "cell_type": "code",
   "execution_count": 7,
   "metadata": {},
   "outputs": [],
   "source": [
    "def BiasPmf(pmf, label):\n",
    "    new_pmf = pmf.Copy(label=label)\n",
    "\n",
    "    for x, p in pmf.Items():\n",
    "        new_pmf.Mult(x, x)\n",
    "        \n",
    "    new_pmf.Normalize()\n",
    "    return new_pmf"
   ]
  },
  {
   "cell_type": "code",
   "execution_count": 8,
   "metadata": {},
   "outputs": [],
   "source": [
    "biased_pmf = BiasPmf(pmf, label='observed')"
   ]
  },
  {
   "cell_type": "code",
   "execution_count": 9,
   "metadata": {},
   "outputs": [
    {
     "data": {
      "image/png": "[encoded data removed]",
      "text/plain": [
       "<Figure size 432x288 with 1 Axes>"
      ]
     },
     "metadata": {},
     "output_type": "display_data"
    }
   ],
   "source": [
    "thinkplot.PrePlot(2)\n",
    "thinkplot.Pmfs([pmf, biased_pmf])\n",
    "thinkplot.Config(xlabel='Number of children', ylabel='PMF')"
   ]
  },
  {
   "cell_type": "code",
   "execution_count": null,
   "metadata": {},
   "outputs": [],
   "source": []
  },
  {
   "cell_type": "code",
   "execution_count": null,
   "metadata": {},
   "outputs": [],
   "source": []
  }
 ],
 "metadata": {
  "kernelspec": {
   "display_name": "Python 3",
   "language": "python",
   "name": "python3"
  },
  "language_info": {
   "codemirror_mode": {
    "name": "ipython",
    "version": 3
   },
   "file_extension": ".py",
   "mimetype": "text/x-python",
   "name": "python",
   "nbconvert_exporter": "python",
   "pygments_lexer": "ipython3",
   "version": "3.6.5"
  }
 },
 "nbformat": 4,
 "nbformat_minor": 2
}
